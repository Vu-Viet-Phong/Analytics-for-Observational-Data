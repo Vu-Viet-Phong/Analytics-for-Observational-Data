{
 "cells": [
  {
   "cell_type": "markdown",
   "metadata": {},
   "source": [
    "# Fitting and Hypothesis Testing"
   ]
  },
  {
   "cell_type": "markdown",
   "metadata": {},
   "source": [
    "### Model Fitting"
   ]
  },
  {
   "cell_type": "markdown",
   "metadata": {},
   "source": [
    "<img src=\"../img/ModelFitting.png\" width=\"350\" height=\"300\">\n",
    "\n",
    "- Step 1: A function takes in a set of parameters and returns a predicted data set.\n",
    "- Step 2: An 'error function' that provides a number representing the difference between your data and the model's prediction for any given set of model parameters. This is usually either the sums of squared error (SSE) or maximum likelihood.\n",
    "- Step 3: Find the parameters that minimize this difference."
   ]
  },
  {
   "cell_type": "markdown",
   "metadata": {},
   "source": [
    "### [Hypothesis Testing](https://en.wikipedia.org/wiki/Statistical_hypothesis_testing)"
   ]
  },
  {
   "cell_type": "markdown",
   "metadata": {},
   "source": [
    "- An objective method of making decisions or inferences from sample data\n",
    "(evidence).\n",
    "- Sample data used to choose between two choices i.e. hypotheses or statements about a population.\n",
    "- We typically do this by comparing what we have observed to what we expected if one of the statements (Null Hypothesis) was true."
   ]
  },
  {
   "cell_type": "markdown",
   "metadata": {},
   "source": [
    "#### How would we test whether all of these categories are equally likely?"
   ]
  },
  {
   "cell_type": "markdown",
   "metadata": {},
   "source": [
    "1. State Hypotheses.\n",
    "2. Calculate a statistic (test statistic), based on your sample data.\n",
    "3. Create a distribution of this statistic, as it would be observed if the null hypothesis were true.\n",
    "4. Measure how extreme your test statistic from (2) is, as compared to the distribution generated in (3)."
   ]
  }
 ],
 "metadata": {
  "language_info": {
   "name": "python"
  },
  "orig_nbformat": 4
 },
 "nbformat": 4,
 "nbformat_minor": 2
}
